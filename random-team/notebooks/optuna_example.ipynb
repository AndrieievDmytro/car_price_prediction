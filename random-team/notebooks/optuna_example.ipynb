{
 "cells": [
  {
   "cell_type": "code",
   "execution_count": 24,
   "metadata": {
    "collapsed": true
   },
   "outputs": [],
   "source": [
    "import optuna\n",
    "from modules import read_data, dataset_split, train_model, score_model\n",
    "from sklearn.tree import DecisionTreeRegressor"
   ]
  },
  {
   "cell_type": "code",
   "execution_count": 25,
   "outputs": [
    {
     "name": "stderr",
     "output_type": "stream",
     "text": [
      "D:\\PycharmProjects\\ASI_RandomTeam\\random-team\\notebooks\\modules.py:23: FutureWarning: In a future version of pandas all arguments of DataFrame.drop except for the argument 'labels' will be keyword-only.\n",
      "  x = np.array(data.drop([predict], 1))\n"
     ]
    }
   ],
   "source": [
    "data = read_data(\"../data/01_raw/CarPrice.csv\")\n",
    "xtrain, xtest, ytrain, ytest = dataset_split(data)"
   ],
   "metadata": {
    "collapsed": false,
    "pycharm": {
     "name": "#%%\n"
    }
   }
  },
  {
   "cell_type": "code",
   "execution_count": 26,
   "outputs": [],
   "source": [
    "def dtree_objective(trial):\n",
    "    max_depth = trial.suggest_int(\"max_depth\", 2, 64)\n",
    "    min_samples_leaf = trial.suggest_int(\"min_samples_leaf\", 1, 32)\n",
    "\n",
    "    classifier = DecisionTreeRegressor(max_depth=max_depth, min_samples_leaf=min_samples_leaf, random_state=1)\n",
    "    predictions = train_model(classifier, xtrain, xtest, ytrain)\n",
    "    score = score_model(classifier, xtest, predictions)\n",
    "\n",
    "    return score\n"
   ],
   "metadata": {
    "collapsed": false,
    "pycharm": {
     "name": "#%%\n"
    }
   }
  },
  {
   "cell_type": "code",
   "execution_count": 27,
   "outputs": [
    {
     "name": "stderr",
     "output_type": "stream",
     "text": [
      "\u001B[32m[I 2022-12-04 15:16:53,797]\u001B[0m A new study created in memory with name: no-name-1b299f21-7bbb-4ca2-b174-10742c975392\u001B[0m\n",
      "\u001B[32m[I 2022-12-04 15:16:53,806]\u001B[0m Trial 0 finished with value: 1.0 and parameters: {'max_depth': 54, 'min_samples_leaf': 7}. Best is trial 0 with value: 1.0.\u001B[0m\n",
      "\u001B[32m[I 2022-12-04 15:16:53,811]\u001B[0m Trial 1 finished with value: 1.0 and parameters: {'max_depth': 45, 'min_samples_leaf': 32}. Best is trial 0 with value: 1.0.\u001B[0m\n",
      "\u001B[32m[I 2022-12-04 15:16:53,815]\u001B[0m Trial 2 finished with value: 1.0 and parameters: {'max_depth': 38, 'min_samples_leaf': 23}. Best is trial 0 with value: 1.0.\u001B[0m\n",
      "\u001B[32m[I 2022-12-04 15:16:53,819]\u001B[0m Trial 3 finished with value: 1.0 and parameters: {'max_depth': 13, 'min_samples_leaf': 18}. Best is trial 0 with value: 1.0.\u001B[0m\n",
      "\u001B[32m[I 2022-12-04 15:16:53,822]\u001B[0m Trial 4 finished with value: 1.0 and parameters: {'max_depth': 38, 'min_samples_leaf': 27}. Best is trial 0 with value: 1.0.\u001B[0m\n",
      "\u001B[32m[I 2022-12-04 15:16:53,829]\u001B[0m Trial 5 finished with value: 1.0 and parameters: {'max_depth': 64, 'min_samples_leaf': 26}. Best is trial 0 with value: 1.0.\u001B[0m\n",
      "\u001B[32m[I 2022-12-04 15:16:53,836]\u001B[0m Trial 6 finished with value: 1.0 and parameters: {'max_depth': 51, 'min_samples_leaf': 1}. Best is trial 0 with value: 1.0.\u001B[0m\n",
      "\u001B[32m[I 2022-12-04 15:16:53,841]\u001B[0m Trial 7 finished with value: 1.0 and parameters: {'max_depth': 60, 'min_samples_leaf': 22}. Best is trial 0 with value: 1.0.\u001B[0m\n",
      "\u001B[32m[I 2022-12-04 15:16:53,845]\u001B[0m Trial 8 finished with value: 1.0 and parameters: {'max_depth': 15, 'min_samples_leaf': 17}. Best is trial 0 with value: 1.0.\u001B[0m\n",
      "\u001B[32m[I 2022-12-04 15:16:53,851]\u001B[0m Trial 9 finished with value: 1.0 and parameters: {'max_depth': 48, 'min_samples_leaf': 27}. Best is trial 0 with value: 1.0.\u001B[0m\n",
      "\u001B[32m[I 2022-12-04 15:16:53,867]\u001B[0m Trial 10 finished with value: 1.0 and parameters: {'max_depth': 25, 'min_samples_leaf': 6}. Best is trial 0 with value: 1.0.\u001B[0m\n",
      "\u001B[32m[I 2022-12-04 15:16:53,883]\u001B[0m Trial 11 finished with value: 1.0 and parameters: {'max_depth': 49, 'min_samples_leaf': 10}. Best is trial 0 with value: 1.0.\u001B[0m\n",
      "\u001B[32m[I 2022-12-04 15:16:53,898]\u001B[0m Trial 12 finished with value: 1.0 and parameters: {'max_depth': 29, 'min_samples_leaf': 32}. Best is trial 0 with value: 1.0.\u001B[0m\n",
      "\u001B[32m[I 2022-12-04 15:16:53,912]\u001B[0m Trial 13 finished with value: 1.0 and parameters: {'max_depth': 55, 'min_samples_leaf': 11}. Best is trial 0 with value: 1.0.\u001B[0m\n",
      "\u001B[32m[I 2022-12-04 15:16:53,924]\u001B[0m Trial 14 finished with value: 1.0 and parameters: {'max_depth': 2, 'min_samples_leaf': 12}. Best is trial 0 with value: 1.0.\u001B[0m\n",
      "\u001B[32m[I 2022-12-04 15:16:53,936]\u001B[0m Trial 15 finished with value: 1.0 and parameters: {'max_depth': 43, 'min_samples_leaf': 2}. Best is trial 0 with value: 1.0.\u001B[0m\n",
      "\u001B[32m[I 2022-12-04 15:16:53,945]\u001B[0m Trial 16 finished with value: 1.0 and parameters: {'max_depth': 57, 'min_samples_leaf': 32}. Best is trial 0 with value: 1.0.\u001B[0m\n",
      "\u001B[32m[I 2022-12-04 15:16:53,956]\u001B[0m Trial 17 finished with value: 1.0 and parameters: {'max_depth': 6, 'min_samples_leaf': 12}. Best is trial 0 with value: 1.0.\u001B[0m\n",
      "\u001B[32m[I 2022-12-04 15:16:53,969]\u001B[0m Trial 18 finished with value: 1.0 and parameters: {'max_depth': 37, 'min_samples_leaf': 1}. Best is trial 0 with value: 1.0.\u001B[0m\n",
      "\u001B[32m[I 2022-12-04 15:16:53,980]\u001B[0m Trial 19 finished with value: 1.0 and parameters: {'max_depth': 57, 'min_samples_leaf': 5}. Best is trial 0 with value: 1.0.\u001B[0m\n",
      "\u001B[32m[I 2022-12-04 15:16:53,989]\u001B[0m Trial 20 finished with value: 1.0 and parameters: {'max_depth': 22, 'min_samples_leaf': 14}. Best is trial 0 with value: 1.0.\u001B[0m\n",
      "\u001B[32m[I 2022-12-04 15:16:54,001]\u001B[0m Trial 21 finished with value: 1.0 and parameters: {'max_depth': 36, 'min_samples_leaf': 7}. Best is trial 0 with value: 1.0.\u001B[0m\n",
      "\u001B[32m[I 2022-12-04 15:16:54,012]\u001B[0m Trial 22 finished with value: 1.0 and parameters: {'max_depth': 64, 'min_samples_leaf': 5}. Best is trial 0 with value: 1.0.\u001B[0m\n",
      "\u001B[32m[I 2022-12-04 15:16:54,029]\u001B[0m Trial 23 finished with value: 1.0 and parameters: {'max_depth': 22, 'min_samples_leaf': 8}. Best is trial 0 with value: 1.0.\u001B[0m\n",
      "\u001B[32m[I 2022-12-04 15:16:54,044]\u001B[0m Trial 24 finished with value: 1.0 and parameters: {'max_depth': 19, 'min_samples_leaf': 14}. Best is trial 0 with value: 1.0.\u001B[0m\n",
      "\u001B[32m[I 2022-12-04 15:16:54,053]\u001B[0m Trial 25 finished with value: 1.0 and parameters: {'max_depth': 64, 'min_samples_leaf': 5}. Best is trial 0 with value: 1.0.\u001B[0m\n",
      "\u001B[32m[I 2022-12-04 15:16:54,065]\u001B[0m Trial 26 finished with value: 1.0 and parameters: {'max_depth': 27, 'min_samples_leaf': 8}. Best is trial 0 with value: 1.0.\u001B[0m\n",
      "\u001B[32m[I 2022-12-04 15:16:54,076]\u001B[0m Trial 27 finished with value: 1.0 and parameters: {'max_depth': 20, 'min_samples_leaf': 15}. Best is trial 0 with value: 1.0.\u001B[0m\n",
      "\u001B[32m[I 2022-12-04 15:16:54,085]\u001B[0m Trial 28 finished with value: 1.0 and parameters: {'max_depth': 31, 'min_samples_leaf': 4}. Best is trial 0 with value: 1.0.\u001B[0m\n",
      "\u001B[32m[I 2022-12-04 15:16:54,096]\u001B[0m Trial 29 finished with value: 1.0 and parameters: {'max_depth': 44, 'min_samples_leaf': 9}. Best is trial 0 with value: 1.0.\u001B[0m\n"
     ]
    }
   ],
   "source": [
    "dtree_study = optuna.create_study(direction='maximize')\n",
    "dtree_study.optimize(dtree_objective, n_trials=30)\n"
   ],
   "metadata": {
    "collapsed": false,
    "pycharm": {
     "name": "#%%\n"
    }
   }
  },
  {
   "cell_type": "code",
   "execution_count": 28,
   "outputs": [
    {
     "name": "stdout",
     "output_type": "stream",
     "text": [
      "1.0\n",
      "{'max_depth': 54, 'min_samples_leaf': 7}\n"
     ]
    }
   ],
   "source": [
    "print(dtree_study.best_value)\n",
    "print(dtree_study.best_params)"
   ],
   "metadata": {
    "collapsed": false,
    "pycharm": {
     "name": "#%%\n"
    }
   }
  },
  {
   "cell_type": "code",
   "execution_count": null,
   "outputs": [],
   "source": [],
   "metadata": {
    "collapsed": false,
    "pycharm": {
     "name": "#%%\n"
    }
   }
  }
 ],
 "metadata": {
  "kernelspec": {
   "display_name": "Python 3",
   "language": "python",
   "name": "python3"
  },
  "language_info": {
   "codemirror_mode": {
    "name": "ipython",
    "version": 2
   },
   "file_extension": ".py",
   "mimetype": "text/x-python",
   "name": "python",
   "nbconvert_exporter": "python",
   "pygments_lexer": "ipython2",
   "version": "2.7.6"
  }
 },
 "nbformat": 4,
 "nbformat_minor": 0
}